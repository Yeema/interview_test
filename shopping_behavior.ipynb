{
 "cells": [
  {
   "cell_type": "code",
   "execution_count": 131,
   "metadata": {},
   "outputs": [],
   "source": [
    "import pandas as pd\n",
    "df = pd.read_csv('rs.csv')\n",
    "saved_column = df['datetime'] #you can also use df['column_name']"
   ]
  },
  {
   "cell_type": "code",
   "execution_count": 132,
   "metadata": {},
   "outputs": [],
   "source": [
    "import random\n",
    "test=[]\n",
    "for _ in range(100):\n",
    "    test.append(random.randrange(0, 242124))\n",
    "    train_list=list(range(0, 242124))\n",
    "train_list =[x for x in train_list if x not in test]\n",
    "X_train=df.iloc[train_list,[1,3]]\n",
    "Y_train=df['item'][train_list]\n",
    "month=saved_column.str.split('-')\n",
    "for id,m in enumerate(month):\n",
    "    df.at[id, 'datetime'] = int(month[id][1])"
   ]
  },
  {
   "cell_type": "code",
   "execution_count": 133,
   "metadata": {},
   "outputs": [],
   "source": [
    "features = list((df.columns[1],df.columns[3]))"
   ]
  },
  {
   "cell_type": "code",
   "execution_count": 134,
   "metadata": {},
   "outputs": [
    {
     "data": {
      "text/plain": [
       "['user', 'qty']"
      ]
     },
     "execution_count": 134,
     "metadata": {},
     "output_type": "execute_result"
    }
   ],
   "source": [
    "features"
   ]
  },
  {
   "cell_type": "code",
   "execution_count": 135,
   "metadata": {},
   "outputs": [],
   "source": [
    "from sklearn import tree"
   ]
  },
  {
   "cell_type": "code",
   "execution_count": 136,
   "metadata": {},
   "outputs": [],
   "source": [
    "clf = tree.DecisionTreeClassifier()"
   ]
  },
  {
   "cell_type": "code",
   "execution_count": 137,
   "metadata": {},
   "outputs": [],
   "source": [
    "clf = clf.fit(X_train, Y_train)"
   ]
  },
  {
   "cell_type": "code",
   "execution_count": 138,
   "metadata": {},
   "outputs": [],
   "source": [
    "Xtest=df.iloc[test,[1,3]]\n",
    "Ytest=df['item'][test]"
   ]
  },
  {
   "cell_type": "code",
   "execution_count": 139,
   "metadata": {},
   "outputs": [],
   "source": [
    "result=clf.predict(Xtest)"
   ]
  },
  {
   "cell_type": "code",
   "execution_count": 141,
   "metadata": {},
   "outputs": [
    {
     "name": "stdout",
     "output_type": "stream",
     "text": [
      "10751 13365\n",
      "10751 8870\n",
      "10751 18856\n",
      "10751 12402\n",
      "10751 19883\n",
      "10751 7167\n",
      "10751 8844\n",
      "10751 9528\n",
      "10751 9465\n",
      "10751 7896\n",
      "10751 8045\n",
      "9456 16450\n",
      "10751 13839\n",
      "9563 11708\n",
      "10751 8095\n",
      "10751 18421\n",
      "10751 9066\n",
      "10751 9458\n",
      "10751 9879\n",
      "10751 19109\n",
      "10751 13839\n",
      "10751 20701\n",
      "10751 20702\n",
      "10751 9045\n",
      "10751 9477\n",
      "10751 9044\n",
      "10751 9474\n",
      "10751 14263\n",
      "10751 6893\n",
      "10751 42192\n",
      "10751 10751\n",
      "10751 8456\n",
      "10751 20701\n",
      "9563 19804\n",
      "10751 11447\n",
      "10751 17592\n",
      "10751 41266\n",
      "9563 19805\n",
      "10751 41332\n",
      "10751 9264\n",
      "10751 7405\n",
      "10751 10751\n",
      "10751 41332\n",
      "10751 11729\n",
      "10751 9626\n",
      "10751 19193\n",
      "10751 6937\n",
      "10751 19229\n",
      "10751 18404\n",
      "10751 11652\n",
      "10751 41332\n",
      "10751 8839\n",
      "10751 19195\n",
      "10751 8839\n",
      "10751 16792\n",
      "10751 20662\n",
      "10751 11700\n",
      "10751 11732\n",
      "10751 15957\n",
      "10751 10253\n",
      "10751 8098\n",
      "10751 6888\n",
      "10751 11820\n",
      "10751 9561\n",
      "10751 8840\n",
      "10751 14518\n",
      "10751 10751\n",
      "10751 9467\n",
      "9563 7744\n",
      "9563 42951\n",
      "10751 8099\n",
      "10751 307422\n",
      "10751 9491\n",
      "10751 9631\n",
      "10751 7573\n",
      "12163 16792\n",
      "9563 18607\n",
      "10751 20640\n",
      "10751 6903\n",
      "10751 7830\n",
      "10751 41266\n",
      "10751 9522\n",
      "10751 10751\n",
      "9563 17372\n",
      "10751 10751\n",
      "9563 7089\n",
      "10751 9004\n",
      "10751 11518\n",
      "10751 11400\n",
      "10751 9458\n",
      "10751 9280\n",
      "10751 13080\n",
      "10751 9065\n",
      "10751 14430\n",
      "10751 9074\n",
      "10751 10254\n",
      "9563 8838\n",
      "10751 9482\n",
      "9563 10751\n",
      "10751 10254\n"
     ]
    }
   ],
   "source": [
    "# pos=0\n",
    "for id,y in enumerate(Ytest):\n",
    "    print(result[id],y)\n",
    "# print(pos/100)"
   ]
  },
  {
   "cell_type": "code",
   "execution_count": 95,
   "metadata": {},
   "outputs": [
    {
     "data": {
      "text/plain": [
       "18425"
      ]
     },
     "execution_count": 95,
     "metadata": {},
     "output_type": "execute_result"
    }
   ],
   "source": []
  },
  {
   "cell_type": "code",
   "execution_count": null,
   "metadata": {},
   "outputs": [],
   "source": []
  }
 ],
 "metadata": {
  "kernelspec": {
   "display_name": "Python 3",
   "language": "python",
   "name": "python3"
  },
  "language_info": {
   "codemirror_mode": {
    "name": "ipython",
    "version": 3
   },
   "file_extension": ".py",
   "mimetype": "text/x-python",
   "name": "python",
   "nbconvert_exporter": "python",
   "pygments_lexer": "ipython3",
   "version": "3.6.4"
  }
 },
 "nbformat": 4,
 "nbformat_minor": 2
}
